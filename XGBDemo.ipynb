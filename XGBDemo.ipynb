{
 "cells": [
  {
   "cell_type": "code",
   "execution_count": 1,
   "metadata": {},
   "outputs": [],
   "source": [
    "from ipywidgets import FloatText,HBox,VBox,Output,Layout,Dropdown,Button,HTML,Text,Accordion,FileUpload,IntSlider\n",
    "from ipywidgets import Checkbox,ToggleButtons\n",
    "from IPython.display import display,clear_output\n",
    "from IPython.display import HTML as OH\n",
    "import io\n",
    "import numpy as np\n",
    "import pandas as pd\n",
    "import xgboost as xg\n",
    "import matplotlib.pyplot as plt\n",
    "%matplotlib inline\n",
    "\n"
   ]
  },
  {
   "cell_type": "code",
   "execution_count": 5,
   "metadata": {},
   "outputs": [
    {
     "name": "stdout",
     "output_type": "stream",
     "text": [
      "\n",
      "          ____  ___   ____    __  __          _ _       _   _             \n",
      "         |  _ \\( _ ) |  _ \\  |  \\/  | ___  __| (_) __ _| |_(_) ___  _ __  \n",
      "         | |_) / _ \\/| | | | | |\\/| |/ _ \\/ _` | |/ _` | __| |/ _ \\| '_ \\ \n",
      "         |  _ | (_>  | |_| | | |  | |  __| (_| | | (_| | |_| | (_) | | | |\n",
      "         |_| \\_\\___/\\|____/  |_|  |_|\\___|\\__,_|_|\\__,_|\\__|_|\\___/|_| |_|\n",
      "         https://www.rd-mediation.fr\n"
     ]
    },
    {
     "data": {
      "application/vnd.jupyter.widget-view+json": {
       "model_id": "b366ec2a6f4545098899e847ff8297df",
       "version_major": 2,
       "version_minor": 0
      },
      "text/plain": [
       "VBox(children=(HBox(children=(FileUpload(value={}, accept='.xlsx', description='1.Open data'), HTML(value='(xl…"
      ]
     },
     "metadata": {},
     "output_type": "display_data"
    }
   ],
   "source": [
    "clear_output(wait=True)\n",
    "output=Output()\n",
    "fu=FileUpload(description=\"1.Open data\",accept='.xlsx',multiple=False)\n",
    "h=HTML(\"Demo xGBoost\")\n",
    "rdm='''\n",
    "          ____  ___   ____    __  __          _ _       _   _             \n",
    "         |  _ \\( _ ) |  _ \\  |  \\/  | ___  __| (_) __ _| |_(_) ___  _ __  \n",
    "         | |_) / _ \\/| | | | | |\\/| |/ _ \\/ _` | |/ _` | __| |/ _ \\| '_ \\ \n",
    "         |  _ | (_>  | |_| | | |  | |  __| (_| | | (_| | |_| | (_) | | | |\n",
    "         |_| \\_\\___/\\|____/  |_|  |_|\\___|\\__,_|_|\\__,_|\\__|_|\\___/|_| |_|\n",
    "         https://www.rd-mediation.fr'''\n",
    "print(rdm)\n",
    "def fileup(change):\n",
    "\n",
    "    with output:\n",
    "        df=pd.read_excel(io.BytesIO(fu.value[list(fu.value)[-1]][\"content\"]),header=0,engine='openpyxl',index_col=0)\n",
    "        X,Y=df.iloc[:,:-1],df.iloc[:,-1]\n",
    "        boost = xg.XGBRegressor()\n",
    "        boost.fit(X, Y)\n",
    "        p_boost = boost.predict(X)\n",
    "        h.value= \"Score Train --> %s %%\"% (round(boost.score(X, Y) *100,2),)\n",
    "        ax=xg.plot_importance(boost)\n",
    "        plt.show()\n",
    "        \n",
    "        \n",
    "            \n",
    "\n",
    "    fu.value.clear()\n",
    "    fu._counter = 0\n",
    "\n",
    "    \n",
    "\n",
    "        \n",
    "        \n",
    "fu.observe(fileup,names='value')\n",
    "VBox([HBox([fu,HTML('(xlsx file last column as Y)')]),h,output])"
   ]
  },
  {
   "cell_type": "code",
   "execution_count": null,
   "metadata": {},
   "outputs": [],
   "source": []
  },
  {
   "cell_type": "code",
   "execution_count": null,
   "metadata": {},
   "outputs": [],
   "source": []
  }
 ],
 "metadata": {
  "kernelspec": {
   "display_name": "Python 3",
   "language": "python",
   "name": "python3"
  },
  "language_info": {
   "codemirror_mode": {
    "name": "ipython",
    "version": 3
   },
   "file_extension": ".py",
   "mimetype": "text/x-python",
   "name": "python",
   "nbconvert_exporter": "python",
   "pygments_lexer": "ipython3",
   "version": "3.8.2"
  }
 },
 "nbformat": 4,
 "nbformat_minor": 4
}
